{
 "cells": [
  {
   "cell_type": "markdown",
   "id": "fc2c6f33-b207-47b6-a6fb-fe91a37ba857",
   "metadata": {},
   "source": [
    "## Generating a product catalog"
   ]
  },
  {
   "cell_type": "code",
   "execution_count": 4,
   "id": "7d132bd8-d86f-4fa4-ab39-a0946d71d607",
   "metadata": {},
   "outputs": [],
   "source": [
    "from faker import Faker\n",
    "import pandas as pd\n",
    "import random\n",
    "import string\n",
    "import numpy as np\n",
    "import hashlib\n",
    "import faker\n",
    "fake = faker.Faker()"
   ]
  },
  {
   "cell_type": "code",
   "execution_count": 5,
   "id": "5bbaec29-21c1-4895-8d6d-adc88042cdf9",
   "metadata": {},
   "outputs": [],
   "source": [
    "product_categories = [\n",
    "    \"Knitwear\", \n",
    "    \"T-Shirts\", \n",
    "    \"Jeans\", \n",
    "    \"Shorts\", \n",
    "    \"Shoes\", \n",
    "    \"Trousers\", \n",
    "    \"Tailoring\", \n",
    "    \"Accessories\",\n",
    "    \"Jackets\",\n",
    "    \"Shirts\",\n",
    "    \"Sweatshirts\"\n",
    "]\n",
    "\n",
    "genders = [\n",
    "    \"Men\", \n",
    "    \"Women\"\n",
    "]\n",
    "\n",
    "colors = [\n",
    "    \"Red\",\n",
    "    \"Blue\",\n",
    "    \"Green\",\n",
    "    \"Yellow\",\n",
    "    \"Black\",\n",
    "    \"White\",\n",
    "    \"Pink\",\n",
    "    \"Orange\",\n",
    "    \"Purple\",\n",
    "    \"Grey\",\n",
    "    \"Teal\",\n",
    "    \"Maroon\",\n",
    "    \"Navy\",\n",
    "    \"Olive\",\n",
    "    \"Magenta\",\n",
    "    \"Lime\",\n",
    "    \"Crimson\",\n",
    "    \"Beige\",\n",
    "    \"Turquoise\",\n",
    "    \"Silver\"\n",
    "]\n",
    "\n",
    "standard_sizes = [\n",
    "    \"XS\",  \n",
    "    \"S\",   \n",
    "    \"M\",   \n",
    "    \"L\",   \n",
    "    \"XL\",  \n",
    "    \"XXL\", \n",
    "]\n",
    "\n",
    "product_categories_materials = {\n",
    "    \"Knitwear\": [\"Wool\", \"Cotton\", \"Cashmere\", \"Acrylic\", \"Bamboo\"],\n",
    "    \"T-Shirts\": [\"Cotton\", \"Polyester\", \"Rayon\", \"Linen\", \"Bamboo\"],\n",
    "    \"Jeans\": [\"Denim\", \"Cotton\", \"Elastane\", \"Polyester\", \"Corduroy\"],\n",
    "    \"Shorts\": [\"Cotton\", \"Polyester\", \"Denim\", \"Nylon\", \"Linen\", \"Corduroy\"],\n",
    "    \"Shoes\": [\"Leather\", \"Suede\", \"Canvas\", \"Synthetic\", \"Rubber\"],\n",
    "    \"Trousers\": [\"Cotton\", \"Wool\", \"Polyester\", \"Linen\", \"Viscose\", \"Corduroy\", \"Suede\"],\n",
    "    \"Tailoring\": [\"Wool\", \"Polyester\", \"Silk\", \"Linen\", \"Cotton\", \"Corduroy\"],\n",
    "    \"Accessories\": [\"Leather\", \"Silk\", \"Cotton\", \"Wool\", \"Synthetic\", \"Suede\"],\n",
    "    \"Jackets\": [\"Leather\", \"Denim\", \"Polyester\", \"Cotton\", \"Nylon\", \"Corduroy\", \"Suede\"],\n",
    "    \"Shirts\": [\"Cotton\", \"Linen\", \"Polyester\", \"Silk\", \"Rayon\", \"Corduroy\"],\n",
    "    \"Sweatshirts\": [\"Cotton\", \"Polyester\", \"Fleece\", \"Wool\", \"Bamboo\"]\n",
    "}\n",
    "\n",
    "\n",
    "subcategories = {\n",
    "    \"Knitwear\": [\n",
    "        \"Cardigans\", \"Pullovers\", \"Sweater Vests\", \"Turtlenecks\", \"Chunky Knits\", \"Fine Knit Sweaters\"\n",
    "    ],\n",
    "    \"T-Shirts\": [\n",
    "        \"Graphic Tees\", \"Plain Tees\", \"Long Sleeve Tees\", \"Polo Shirts\", \"Henley Shirts\", \"Crew Neck T-Shirts\", \"V-Neck T-Shirts\"\n",
    "    ],\n",
    "    \"Jeans\": [\n",
    "        \"Skinny Jeans\", \"Straight Leg Jeans\", \"Bootcut Jeans\", \"High-Waisted Jeans\", \"Distressed Jeans\", \"Slim Fit Jeans\"\n",
    "    ],\n",
    "    \"Shorts\": [\n",
    "        \"Denim Shorts\", \"Chino Shorts\", \"Cargo Shorts\", \"Bermuda Shorts\", \"Athletic Shorts\", \"Board Shorts\", \"Leather Shorts\"\n",
    "    ],\n",
    "    \"Shoes\": [\n",
    "        \"Sneakers\", \"Dress Shoes\", \"Boots\", \"Sandals\", \"Loafers\", \"Running Shoes\", \"Oxfords\", \"Derbys\"\n",
    "    ],\n",
    "    \"Trousers\": [\n",
    "        \"Chinos\", \"Dress Pants\", \"Cargo Pants\", \"Slim Fit Trousers\", \"Wide-Leg Trousers\", \"Joggers\", \"Cropped Trousers\"\n",
    "    ],\n",
    "    \"Tailoring\": [\n",
    "        \"Suits\", \"Blazers\", \"Dress Shirts\", \"Tuxedos\", \"Vests\", \"Tailored Jackets\", \"Morning Coats\"\n",
    "    ],\n",
    "    \"Accessories\": [\n",
    "        \"Hats\", \"Bags\", \"Belts\", \"Scarves\", \"Sunglasses\", \"Watches\", \"Jewelry\", \"Ties\", \"Wallets\", \"Cufflinks\"\n",
    "    ],\n",
    "    \"Jackets\": [\n",
    "        \"Bomber Jackets\", \"Denim Jackets\", \"Leather Jackets\", \"Parkas\", \"Blazers\", \"Windbreakers\", \"Puffer Jackets\"\n",
    "    ],\n",
    "    \"Shirts\": [\n",
    "        \"Dress Shirts\", \"Casual Shirts\", \"Flannel Shirts\", \"Oxford Shirts\", \"Hawaiian Shirts\", \"Chambray Shirts\", \"Linen Shirts\"\n",
    "    ],\n",
    "    \"Sweatshirts\": [\n",
    "        \"Hoodies\", \"Crew Neck Sweatshirts\", \"Zip-Up Sweatshirts\", \"Oversized Sweatshirts\", \"Graphic Sweatshirts\", \"Fleece Sweatshirts\"\n",
    "    ]\n",
    "}\n"
   ]
  },
  {
   "cell_type": "code",
   "execution_count": 6,
   "id": "a959a92d-33b1-4c4c-b403-d7ed742b9cc3",
   "metadata": {},
   "outputs": [],
   "source": [
    "def generate_price(category):\n",
    "    \"\"\"\n",
    "    Generates prices for different product categories\n",
    "    \"\"\"\n",
    "    price_ranges = {\n",
    "        \"Knitwear\": (25, 100),\n",
    "        \"T-Shirts\": (15, 50),\n",
    "        \"Jeans\": (40, 120),\n",
    "        \"Shorts\": (20, 60),\n",
    "        \"Shoes\": (50, 200),\n",
    "        \"Trousers\": (30, 100),\n",
    "        \"Tailoring\": (100, 300),\n",
    "        \"Accessories\": (10, 70),\n",
    "        \"Jackets\": (60, 250),\n",
    "        \"Shirts\": (25, 80),\n",
    "        \"Sweatshirts\": (30, 90),\n",
    "    }\n",
    "    \n",
    "    lower_bound, upper_bound = price_ranges.get(category)\n",
    "    # Generate a random price within the range\n",
    "    price = round(random.uniform(lower_bound, upper_bound), 0)\n",
    "    return price"
   ]
  },
  {
   "cell_type": "code",
   "execution_count": 7,
   "id": "27914148-9420-478d-87cc-4675ce6bfc9f",
   "metadata": {},
   "outputs": [],
   "source": [
    "def generate_alphanumeric_id(length):\n",
    "    \"\"\"\n",
    "    Generate an random alphanumeric id\n",
    "    \"\"\"\n",
    "    characters = string.ascii_letters + string.digits\n",
    "    random_id = ''.join(random.choice(characters) for i in range(length))\n",
    "    return random_id.upper()"
   ]
  },
  {
   "cell_type": "code",
   "execution_count": 8,
   "id": "791c9130-907b-4d11-9dbf-fe4cedcbd3cd",
   "metadata": {},
   "outputs": [],
   "source": [
    "# First we need to build our catalog of products\n",
    "n_products = 1000\n",
    "\n",
    "styles = []\n",
    "for i in range(n_products):\n",
    "    category = random.choice(product_categories)\n",
    "    gender = random.choice(genders)\n",
    "    material = random.choice(product_categories_materials.get(category))\n",
    "    sub_category = random.choice(subcategories.get(category))\n",
    "    name = (fake.name()).split(' ')[1]\n",
    "    price = generate_price(category)\n",
    "    \n",
    "    styles.append(\n",
    "        {\"gender\":gender, \n",
    "         \"category\":category, \n",
    "         \"sub_category\":sub_category, \n",
    "         \"material\": material, \n",
    "         \"name\": name,\n",
    "         \"price\": price\n",
    "        })\n",
    "\n",
    "df_style = pd.DataFrame(styles)\n",
    "df_style[\"style_id\"] = [generate_alphanumeric_id(10) for i in range(len(df_style))]"
   ]
  },
  {
   "cell_type": "code",
   "execution_count": 10,
   "id": "64125184-fdd5-45d0-beba-215bc9f25393",
   "metadata": {},
   "outputs": [
    {
     "name": "stdout",
     "output_type": "stream",
     "text": [
      "  gender     category      sub_category material       name  price    style_id\n",
      "0    Men  Accessories           Wallets     Silk  Gutierrez   37.0  XR7NUURBHJ\n",
      "1  Women      Jackets     Denim Jackets   Cotton     Gordon  166.0  DULQGXZB5Y\n",
      "2    Men  Accessories           Scarves    Suede     Brenda   54.0  NMIQ4ST5KM\n",
      "3  Women     T-Shirts  Long Sleeve Tees   Bamboo   Thompson   48.0  0OTCPPDLE2\n",
      "4    Men       Shorts    Bermuda Shorts    Nylon      Riley   20.0  PROGZGEDKD\n"
     ]
    }
   ],
   "source": [
    "print(df_style.head())"
   ]
  },
  {
   "cell_type": "code",
   "execution_count": 12,
   "id": "4f503205-7a94-463b-9abd-277c705f64f1",
   "metadata": {},
   "outputs": [],
   "source": [
    "# products come in different colors, these we'll call styleoptions\n",
    "styleoptions = []\n",
    "\n",
    "for index, row in df_style.iterrows():\n",
    "    _colors = colors.copy()\n",
    "\n",
    "    n_colors = random.randint(2, 8)\n",
    "    for c in range(n_colors):\n",
    "        color = random.choice(_colors)\n",
    "        _colors.remove(color)\n",
    "\n",
    "        row_dict = row.to_dict()\n",
    "        row_dict['color'] = color\n",
    "        styleoptions.append(row_dict)\n",
    "        \n",
    "df_styleoption = pd.DataFrame(styleoptions)\n",
    "df_styleoption[\"style_option_id\"] = df_styleoption['style_id'] + '_' + df_styleoption['color'].str.upper()"
   ]
  },
  {
   "cell_type": "code",
   "execution_count": 13,
   "id": "1cff5f6e-344a-4efd-b608-b565a0687cd3",
   "metadata": {},
   "outputs": [
    {
     "name": "stdout",
     "output_type": "stream",
     "text": [
      "  gender     category   sub_category material       name  price    style_id  \\\n",
      "0    Men  Accessories        Wallets     Silk  Gutierrez   37.0  XR7NUURBHJ   \n",
      "1    Men  Accessories        Wallets     Silk  Gutierrez   37.0  XR7NUURBHJ   \n",
      "2    Men  Accessories        Wallets     Silk  Gutierrez   37.0  XR7NUURBHJ   \n",
      "3    Men  Accessories        Wallets     Silk  Gutierrez   37.0  XR7NUURBHJ   \n",
      "4  Women      Jackets  Denim Jackets   Cotton     Gordon  166.0  DULQGXZB5Y   \n",
      "\n",
      "     color     style_option_id  \n",
      "0   Maroon   XR7NUURBHJ_MAROON  \n",
      "1    Black    XR7NUURBHJ_BLACK  \n",
      "2      Red      XR7NUURBHJ_RED  \n",
      "3     Grey     XR7NUURBHJ_GREY  \n",
      "4  Magenta  DULQGXZB5Y_MAGENTA  \n"
     ]
    }
   ],
   "source": [
    "print(df_styleoption.head())"
   ]
  },
  {
   "cell_type": "code",
   "execution_count": 15,
   "id": "7bb99f90-371a-4b6a-9cdd-1ccd4deb80ff",
   "metadata": {},
   "outputs": [],
   "source": [
    "# Now we need to generate the SKU itself, which is the specific size of a styleoption. \n",
    "# For simplicity, lets assume there are always all sizes available.\n",
    "skus = []\n",
    "\n",
    "for index, row in df_styleoption.iterrows():\n",
    "    for s in standard_sizes:\n",
    "        row_dict = row.to_dict()\n",
    "        row_dict['size'] = s\n",
    "        skus.append(row_dict)\n",
    "        \n",
    "df_sku = pd.DataFrame(skus)\n",
    "df_sku[\"sku_id\"] = df_sku['style_option_id'] + '_' + df_sku['size'].str.upper()"
   ]
  },
  {
   "cell_type": "code",
   "execution_count": 16,
   "id": "35647213-b5db-4c82-b19d-72b055709b7e",
   "metadata": {},
   "outputs": [
    {
     "name": "stdout",
     "output_type": "stream",
     "text": [
      "  gender     category sub_category material       name  price    style_id  \\\n",
      "0    Men  Accessories      Wallets     Silk  Gutierrez   37.0  XR7NUURBHJ   \n",
      "1    Men  Accessories      Wallets     Silk  Gutierrez   37.0  XR7NUURBHJ   \n",
      "2    Men  Accessories      Wallets     Silk  Gutierrez   37.0  XR7NUURBHJ   \n",
      "3    Men  Accessories      Wallets     Silk  Gutierrez   37.0  XR7NUURBHJ   \n",
      "4    Men  Accessories      Wallets     Silk  Gutierrez   37.0  XR7NUURBHJ   \n",
      "\n",
      "    color    style_option_id size                sku_id  \n",
      "0  Maroon  XR7NUURBHJ_MAROON   XS  XR7NUURBHJ_MAROON_XS  \n",
      "1  Maroon  XR7NUURBHJ_MAROON    S   XR7NUURBHJ_MAROON_S  \n",
      "2  Maroon  XR7NUURBHJ_MAROON    M   XR7NUURBHJ_MAROON_M  \n",
      "3  Maroon  XR7NUURBHJ_MAROON    L   XR7NUURBHJ_MAROON_L  \n",
      "4  Maroon  XR7NUURBHJ_MAROON   XL  XR7NUURBHJ_MAROON_XL  \n"
     ]
    }
   ],
   "source": [
    "print(df_sku.head())"
   ]
  },
  {
   "cell_type": "code",
   "execution_count": 17,
   "id": "45b6cbdf-06be-4d13-91e5-82631498406e",
   "metadata": {},
   "outputs": [
    {
     "name": "stdout",
     "output_type": "stream",
     "text": [
      "29754 4959 1000\n"
     ]
    }
   ],
   "source": [
    "print(len(df_sku), len(df_styleoption), len(df_style))"
   ]
  },
  {
   "cell_type": "code",
   "execution_count": 18,
   "id": "ffd0fb61-a01f-4ae2-961e-2cd1db48b242",
   "metadata": {},
   "outputs": [],
   "source": [
    "df_style.to_csv(\"styles.csv\", sep=\";\", index=None)\n",
    "df_styleoption.to_csv(\"styleoptions.csv\", sep=\";\", index=None)\n",
    "df_sku.to_csv(\"skus.csv\", sep=';', index=None)"
   ]
  }
 ],
 "metadata": {
  "kernelspec": {
   "display_name": "dev-11",
   "language": "python",
   "name": "dev-11"
  },
  "language_info": {
   "codemirror_mode": {
    "name": "ipython",
    "version": 3
   },
   "file_extension": ".py",
   "mimetype": "text/x-python",
   "name": "python",
   "nbconvert_exporter": "python",
   "pygments_lexer": "ipython3",
   "version": "3.11.7"
  }
 },
 "nbformat": 4,
 "nbformat_minor": 5
}
